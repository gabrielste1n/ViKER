{
 "cells": [
  {
   "cell_type": "code",
   "execution_count": 9,
   "metadata": {},
   "outputs": [],
   "source": [
    "from Table import *\n",
    "from Main import DataTypes, RelationTypes"
   ]
  },
  {
   "cell_type": "code",
   "execution_count": 10,
   "metadata": {},
   "outputs": [
    {
     "name": "stdout",
     "output_type": "stream",
     "text": [
      "name: entity1\n",
      "isStrong: True\n",
      "attributes:\n",
      "\tname entityID\n",
      "\tID True\n",
      "\tMV False\n",
      "\tcomposed of []\n",
      "relationships:\n",
      "\ttype RelationTypes.EXACTLY_ONE\n",
      "\tentity entity2\n"
     ]
    }
   ],
   "source": [
    "e1 = Entity(name=\"entity1\", isStrong=True)\n",
    "e1.addRelationship(relationshipType=RelationTypes.EXACTLY_ONE, entityName=\"entity2\")\n",
    "e1.addAttribute(name=\"entityID\", isIdentifier=\"True\", isMultiValued=False, composedOf=[])\n",
    "\n",
    "print(\"name: \" + str(e1.name), \n",
    "      \"isStrong: \"+str(e1.isStrong),\n",
    "      sep = '\\n')\n",
    "print(\"attributes:\")\n",
    "for a in e1.attributes:\n",
    "    print(\"\\tname\", a.name)\n",
    "    print(\"\\tID\", a.isIdentifier)\n",
    "    print(\"\\tMV\", a.isMultiValued)\n",
    "    print(\"\\tcomposed of\", a.composedOf)\n",
    "\n",
    "print(\"relationships:\")\n",
    "for r in e1.relationships:\n",
    "    print(\"\\ttype\", r.relationshipType)\n",
    "    print(\"\\tentity\", r.entityName)"
   ]
  },
  {
   "cell_type": "code",
   "execution_count": 8,
   "metadata": {},
   "outputs": [
    {
     "name": "stdout",
     "output_type": "stream",
     "text": [
      "name: relation1\n",
      "inheritsFrom: none\n",
      "coveredBy: []\n",
      "disjoint: ['relation2']\n"
     ]
    }
   ],
   "source": [
    "r1 = Relation(name=\"relation1\", inheritsFrom=\"none\", coveredBy=[], disjointWith=[\"relation2\"])\n",
    "r1.addAttribute(name=\"relationID\", isConcrete=True, dataType=DataTypes.INTEGER, isPFD=True, isFK=False)\n",
    "\n",
    "print(\"name: \"+str(r1.name),\n",
    "      \"inheritsFrom: \"+str(r1.inheritsFrom),\n",
    "      \"coveredBy: \"+str(r1.coveredBy),\n",
    "      \"disjoint: \"+str(r1.disjointWith),\n",
    "      sep=\"\\n\")"
   ]
  },
  {
   "cell_type": "code",
   "execution_count": null,
   "metadata": {},
   "outputs": [],
   "source": []
  },
  {
   "cell_type": "code",
   "execution_count": null,
   "metadata": {},
   "outputs": [],
   "source": []
  }
 ],
 "metadata": {
  "kernelspec": {
   "display_name": "Python 3",
   "language": "python",
   "name": "python3"
  },
  "language_info": {
   "codemirror_mode": {
    "name": "ipython",
    "version": 3
   },
   "file_extension": ".py",
   "mimetype": "text/x-python",
   "name": "python",
   "nbconvert_exporter": "python",
   "pygments_lexer": "ipython3",
   "version": "3.6.5"
  }
 },
 "nbformat": 4,
 "nbformat_minor": 2
}
